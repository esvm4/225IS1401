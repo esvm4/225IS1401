{
 "cells": [
  {
   "cell_type": "code",
   "execution_count": 1,
   "metadata": {},
   "outputs": [],
   "source": [
    "import pandas as pd\n",
    "import numpy as np\n",
    "import matplotlib.pyplot as plt\n",
    "from sklearn.model_selection import KFold\n",
    "from sklearn.svm import SVR\n",
    "from sklearn.metrics import mean_squared_error"
   ]
  },
  {
   "cell_type": "code",
   "execution_count": 2,
   "metadata": {},
   "outputs": [
    {
     "data": {
      "text/html": [
       "<div>\n",
       "<style scoped>\n",
       "    .dataframe tbody tr th:only-of-type {\n",
       "        vertical-align: middle;\n",
       "    }\n",
       "\n",
       "    .dataframe tbody tr th {\n",
       "        vertical-align: top;\n",
       "    }\n",
       "\n",
       "    .dataframe thead th {\n",
       "        text-align: right;\n",
       "    }\n",
       "</style>\n",
       "<table border=\"1\" class=\"dataframe\">\n",
       "  <thead>\n",
       "    <tr style=\"text-align: right;\">\n",
       "      <th></th>\n",
       "      <th>subject</th>\n",
       "      <th>condition</th>\n",
       "      <th>replication</th>\n",
       "      <th>leg</th>\n",
       "      <th>joint</th>\n",
       "      <th>time</th>\n",
       "      <th>angle</th>\n",
       "      <th>angle_scaled</th>\n",
       "    </tr>\n",
       "  </thead>\n",
       "  <tbody>\n",
       "    <tr>\n",
       "      <th>0</th>\n",
       "      <td>1</td>\n",
       "      <td>1</td>\n",
       "      <td>1</td>\n",
       "      <td>1</td>\n",
       "      <td>1</td>\n",
       "      <td>0</td>\n",
       "      <td>4.682881</td>\n",
       "      <td>-0.465902</td>\n",
       "    </tr>\n",
       "    <tr>\n",
       "      <th>1</th>\n",
       "      <td>1</td>\n",
       "      <td>1</td>\n",
       "      <td>1</td>\n",
       "      <td>1</td>\n",
       "      <td>1</td>\n",
       "      <td>1</td>\n",
       "      <td>5.073127</td>\n",
       "      <td>-0.441551</td>\n",
       "    </tr>\n",
       "    <tr>\n",
       "      <th>2</th>\n",
       "      <td>1</td>\n",
       "      <td>1</td>\n",
       "      <td>1</td>\n",
       "      <td>1</td>\n",
       "      <td>1</td>\n",
       "      <td>2</td>\n",
       "      <td>5.229774</td>\n",
       "      <td>-0.431776</td>\n",
       "    </tr>\n",
       "    <tr>\n",
       "      <th>3</th>\n",
       "      <td>1</td>\n",
       "      <td>1</td>\n",
       "      <td>1</td>\n",
       "      <td>1</td>\n",
       "      <td>1</td>\n",
       "      <td>3</td>\n",
       "      <td>5.083273</td>\n",
       "      <td>-0.440918</td>\n",
       "    </tr>\n",
       "    <tr>\n",
       "      <th>4</th>\n",
       "      <td>1</td>\n",
       "      <td>1</td>\n",
       "      <td>1</td>\n",
       "      <td>1</td>\n",
       "      <td>1</td>\n",
       "      <td>4</td>\n",
       "      <td>4.652399</td>\n",
       "      <td>-0.467804</td>\n",
       "    </tr>\n",
       "  </tbody>\n",
       "</table>\n",
       "</div>"
      ],
      "text/plain": [
       "   subject  condition  replication  leg  joint  time     angle  angle_scaled\n",
       "0        1          1            1    1      1     0  4.682881     -0.465902\n",
       "1        1          1            1    1      1     1  5.073127     -0.441551\n",
       "2        1          1            1    1      1     2  5.229774     -0.431776\n",
       "3        1          1            1    1      1     3  5.083273     -0.440918\n",
       "4        1          1            1    1      1     4  4.652399     -0.467804"
      ]
     },
     "execution_count": 2,
     "metadata": {},
     "output_type": "execute_result"
    }
   ],
   "source": [
    "df_standardised = pd.read_csv('../gait_standardised.csv')\n",
    "df_standardised.head()"
   ]
  },
  {
   "cell_type": "code",
   "execution_count": 3,
   "metadata": {},
   "outputs": [
    {
     "name": "stdout",
     "output_type": "stream",
     "text": [
      "Data types before:\n",
      "subject           int64\n",
      "condition         int64\n",
      "replication       int64\n",
      "leg               int64\n",
      "joint             int64\n",
      "time              int64\n",
      "angle           float64\n",
      "angle_scaled    float64\n",
      "dtype: object\n",
      "\n",
      "Data types after:\n",
      "subject         category\n",
      "condition       category\n",
      "replication     category\n",
      "leg             category\n",
      "joint           category\n",
      "time            category\n",
      "angle            float64\n",
      "angle_scaled     float64\n",
      "dtype: object\n"
     ]
    }
   ],
   "source": [
    "print(f\"Data types before:\\n{df_standardised.dtypes}\\n\")\n",
    "categorical_columns = ['subject', 'condition', 'replication', 'leg', 'joint', 'time']\n",
    "df_standardised[categorical_columns] = df_standardised[categorical_columns].astype('category')\n",
    "df_standardised['time'] = df_standardised['time'].cat.set_categories(list(range(0, 101)), ordered=True)\n",
    "print(f\"Data types after:\\n{df_standardised.dtypes}\")"
   ]
  },
  {
   "cell_type": "code",
   "execution_count": 4,
   "metadata": {},
   "outputs": [
    {
     "data": {
      "text/plain": [
       "10"
      ]
     },
     "execution_count": 4,
     "metadata": {},
     "output_type": "execute_result"
    }
   ],
   "source": [
    "kf = KFold(n_splits=10, random_state=42, shuffle=True)\n",
    "kf.get_n_splits(df_standardised)"
   ]
  },
  {
   "cell_type": "code",
   "execution_count": 5,
   "metadata": {},
   "outputs": [],
   "source": [
    "def calculate_score(model, X, y):\n",
    "    y_pred = model.predict(X)\n",
    "    return mean_squared_error(y, y_pred)\n",
    "\n",
    "scores = []"
   ]
  },
  {
   "cell_type": "code",
   "execution_count": 5,
   "metadata": {},
   "outputs": [
    {
     "name": "stdout",
     "output_type": "stream",
     "text": [
      "Fold 0:\n",
      "Score: 0.8543785879018764\n",
      "Fold 1:\n",
      "Score: 0.8158615459726327\n",
      "Fold 2:\n",
      "Score: 0.833867671101223\n",
      "Fold 3:\n",
      "Score: 0.8278822160918018\n",
      "Fold 4:\n",
      "Score: 0.8425266132210514\n",
      "Fold 5:\n",
      "Score: 0.8398184679813329\n",
      "Fold 6:\n",
      "Score: 0.8172948355807405\n",
      "Fold 7:\n",
      "Score: 0.8342250704082199\n",
      "Fold 8:\n",
      "Score: 0.8345599773341172\n",
      "Fold 9:\n",
      "Score: 0.8243600049205635\n"
     ]
    }
   ],
   "source": [
    "for i, (train_index, test_index) in enumerate(kf.split(df_standardised)):\n",
    "    print(f\"Fold {i}:\")\n",
    "     \n",
    "    X_Train = df_standardised.loc[train_index, ['subject','condition','replication','leg','joint']]\n",
    "    Y_Train = df_standardised.loc[train_index, 'angle_scaled']\n",
    "\n",
    "    X_Test = df_standardised.loc[test_index, ['subject','condition','replication','leg','joint']]\n",
    "    Y_Test = df_standardised.loc[test_index, 'angle_scaled']\n",
    "    \n",
    "    model = SVR()\n",
    "    model.fit(X_Train, Y_Train)\n",
    "    \n",
    "    score = calculate_score(model, X_Test, Y_Test)\n",
    "    scores.append(score)\n",
    "    \n",
    "    print(f\"Score: {score}\")"
   ]
  },
  {
   "cell_type": "code",
   "execution_count": 6,
   "metadata": {},
   "outputs": [
    {
     "name": "stdout",
     "output_type": "stream",
     "text": [
      "   Fold     Score\n",
      "0     1  0.854379\n",
      "1     2  0.815862\n",
      "2     3  0.833868\n",
      "3     4  0.827882\n",
      "4     5  0.842527\n",
      "5     6  0.839818\n",
      "6     7  0.817295\n",
      "7     8  0.834225\n",
      "8     9  0.834560\n",
      "9    10  0.824360\n"
     ]
    }
   ],
   "source": [
    "df_scores = pd.DataFrame({'Fold': range(1, len(scores)+1), 'Score': scores})\n",
    "\n",
    "print(df_scores)"
   ]
  },
  {
   "cell_type": "code",
   "execution_count": 7,
   "metadata": {},
   "outputs": [
    {
     "data": {
      "image/png": "[encoded data removed]",
      "text/plain": [
       "<Figure size 640x480 with 1 Axes>"
      ]
     },
     "metadata": {},
     "output_type": "display_data"
    }
   ],
   "source": [
    "plt.plot(df_scores['Fold'], df_scores['Score'], marker='o')\n",
    "plt.xlabel('Fold')\n",
    "plt.ylabel('Score')\n",
    "plt.title('Score of each fold')\n",
    "plt.show()"
   ]
  }
 ],
 "metadata": {
  "kernelspec": {
   "display_name": "Python 3",
   "language": "python",
   "name": "python3"
  },
  "language_info": {
   "codemirror_mode": {
    "name": "ipython",
    "version": 3
   },
   "file_extension": ".py",
   "mimetype": "text/x-python",
   "name": "python",
   "nbconvert_exporter": "python",
   "pygments_lexer": "ipython3",
   "version": "3.10.6"
  },
  "orig_nbformat": 4
 },
 "nbformat": 4,
 "nbformat_minor": 2
}
