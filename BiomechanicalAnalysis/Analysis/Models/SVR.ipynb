{
 "cells": [
  {
   "cell_type": "code",
   "execution_count": 3,
   "metadata": {},
   "outputs": [],
   "source": [
    "import pandas as pd\n",
    "import numpy as np\n",
    "from sklearn.model_selection import KFold\n",
    "from sklearn.metrics import mean_squared_error, r2_score, mean_absolute_error\n",
    "from sklearn.svm import SVR\n",
    "from math import sqrt"
   ]
  },
  {
   "cell_type": "code",
   "execution_count": 4,
   "metadata": {},
   "outputs": [
    {
     "data": {
      "text/html": [
       "<div>\n",
       "<style scoped>\n",
       "    .dataframe tbody tr th:only-of-type {\n",
       "        vertical-align: middle;\n",
       "    }\n",
       "\n",
       "    .dataframe tbody tr th {\n",
       "        vertical-align: top;\n",
       "    }\n",
       "\n",
       "    .dataframe thead th {\n",
       "        text-align: right;\n",
       "    }\n",
       "</style>\n",
       "<table border=\"1\" class=\"dataframe\">\n",
       "  <thead>\n",
       "    <tr style=\"text-align: right;\">\n",
       "      <th></th>\n",
       "      <th>subject</th>\n",
       "      <th>condition</th>\n",
       "      <th>replication</th>\n",
       "      <th>leg</th>\n",
       "      <th>joint</th>\n",
       "      <th>time</th>\n",
       "      <th>angle</th>\n",
       "      <th>angle_scaled</th>\n",
       "    </tr>\n",
       "  </thead>\n",
       "  <tbody>\n",
       "    <tr>\n",
       "      <th>0</th>\n",
       "      <td>1</td>\n",
       "      <td>1</td>\n",
       "      <td>1</td>\n",
       "      <td>1</td>\n",
       "      <td>1</td>\n",
       "      <td>0</td>\n",
       "      <td>4.682881</td>\n",
       "      <td>-0.465902</td>\n",
       "    </tr>\n",
       "    <tr>\n",
       "      <th>1</th>\n",
       "      <td>1</td>\n",
       "      <td>1</td>\n",
       "      <td>1</td>\n",
       "      <td>1</td>\n",
       "      <td>1</td>\n",
       "      <td>1</td>\n",
       "      <td>5.073127</td>\n",
       "      <td>-0.441551</td>\n",
       "    </tr>\n",
       "    <tr>\n",
       "      <th>2</th>\n",
       "      <td>1</td>\n",
       "      <td>1</td>\n",
       "      <td>1</td>\n",
       "      <td>1</td>\n",
       "      <td>1</td>\n",
       "      <td>2</td>\n",
       "      <td>5.229774</td>\n",
       "      <td>-0.431776</td>\n",
       "    </tr>\n",
       "    <tr>\n",
       "      <th>3</th>\n",
       "      <td>1</td>\n",
       "      <td>1</td>\n",
       "      <td>1</td>\n",
       "      <td>1</td>\n",
       "      <td>1</td>\n",
       "      <td>3</td>\n",
       "      <td>5.083273</td>\n",
       "      <td>-0.440918</td>\n",
       "    </tr>\n",
       "    <tr>\n",
       "      <th>4</th>\n",
       "      <td>1</td>\n",
       "      <td>1</td>\n",
       "      <td>1</td>\n",
       "      <td>1</td>\n",
       "      <td>1</td>\n",
       "      <td>4</td>\n",
       "      <td>4.652399</td>\n",
       "      <td>-0.467804</td>\n",
       "    </tr>\n",
       "  </tbody>\n",
       "</table>\n",
       "</div>"
      ],
      "text/plain": [
       "   subject  condition  replication  leg  joint  time     angle  angle_scaled\n",
       "0        1          1            1    1      1     0  4.682881     -0.465902\n",
       "1        1          1            1    1      1     1  5.073127     -0.441551\n",
       "2        1          1            1    1      1     2  5.229774     -0.431776\n",
       "3        1          1            1    1      1     3  5.083273     -0.440918\n",
       "4        1          1            1    1      1     4  4.652399     -0.467804"
      ]
     },
     "execution_count": 4,
     "metadata": {},
     "output_type": "execute_result"
    }
   ],
   "source": [
    "df_standardised = pd.read_csv('../gait_standardised.csv')\n",
    "df_standardised.head()"
   ]
  },
  {
   "cell_type": "code",
   "execution_count": 5,
   "metadata": {},
   "outputs": [
    {
     "data": {
      "text/plain": [
       "10"
      ]
     },
     "execution_count": 5,
     "metadata": {},
     "output_type": "execute_result"
    }
   ],
   "source": [
    "kf = KFold(n_splits=10, random_state=42, shuffle=True)\n",
    "kf.get_n_splits(df_standardised)"
   ]
  },
  {
   "cell_type": "code",
   "execution_count": 6,
   "metadata": {},
   "outputs": [
    {
     "name": "stdout",
     "output_type": "stream",
     "text": [
      "Data types before:\n",
      "subject           int64\n",
      "condition         int64\n",
      "replication       int64\n",
      "leg               int64\n",
      "joint             int64\n",
      "time              int64\n",
      "angle           float64\n",
      "angle_scaled    float64\n",
      "dtype: object\n",
      "\n",
      "Data types after:\n",
      "subject         category\n",
      "condition       category\n",
      "replication     category\n",
      "leg             category\n",
      "joint           category\n",
      "time            category\n",
      "angle            float64\n",
      "angle_scaled     float64\n",
      "dtype: object\n"
     ]
    }
   ],
   "source": [
    "print(f\"Data types before:\\n{df_standardised.dtypes}\\n\")\n",
    "categorical_columns = ['subject', 'condition', 'replication', 'leg', 'joint', 'time']\n",
    "df_standardised[categorical_columns] = df_standardised[categorical_columns].astype('category')\n",
    "df_standardised['time'] = df_standardised['time'].cat.set_categories(list(range(0, 101)), ordered=True)\n",
    "print(f\"Data types after:\\n{df_standardised.dtypes}\")"
   ]
  },
  {
   "cell_type": "code",
   "execution_count": 7,
   "metadata": {},
   "outputs": [],
   "source": [
    "results = {\n",
    "    'Fold': [],\n",
    "    'MSE': [],\n",
    "    'R²': [],\n",
    "    'RMSE': [],\n",
    "    'MAE': [],\n",
    "    'MAPE': [],\n",
    "    'Adjusted R²': []\n",
    "}"
   ]
  },
  {
   "cell_type": "code",
   "execution_count": 8,
   "metadata": {},
   "outputs": [],
   "source": [
    "for i, (train_index, test_index) in enumerate(kf.split(df_standardised)):\n",
    "    x_train = df_standardised.loc[train_index, ['subject', 'condition', 'replication', 'leg', 'joint']]\n",
    "    y_train = df_standardised.loc[train_index, 'angle_scaled']\n",
    "\n",
    "    # Create and fit the Support Vector Regression model\n",
    "    clf = SVR()\n",
    "    clf.fit(x_train, y_train)\n",
    "\n",
    "    x_test = df_standardised.loc[test_index, ['subject', 'condition', 'replication', 'leg', 'joint']]\n",
    "    y_test = df_standardised.loc[test_index, 'angle_scaled']\n",
    "\n",
    "    y_pred = clf.predict(x_test)\n",
    "    \n",
    "    # Calculate evaluation metrics\n",
    "    mse = mean_squared_error(y_test, y_pred)\n",
    "    r2 = r2_score(y_test, y_pred)\n",
    "    rmse = sqrt(mse)\n",
    "    mae = mean_absolute_error(y_test, y_pred)\n",
    "    mape = np.mean(np.abs((y_test - y_pred) / y_test)) * 100\n",
    "\n",
    "    n = x_test.shape[0]  # Number of samples\n",
    "    p = x_test.shape[1]  # Number of features\n",
    "    adj_r2 = 1 - ((1 - r2) * (n - 1)) / (n - p - 1)\n",
    "    \n",
    "    # Store the results in the dictionary\n",
    "    results['Fold'].append(i + 1)\n",
    "    results['MSE'].append(mse)\n",
    "    results['R²'].append(r2)\n",
    "    results['RMSE'].append(rmse)\n",
    "    results['MAE'].append(mae)\n",
    "    results['MAPE'].append(mape)\n",
    "    results['Adjusted R²'].append(adj_r2)"
   ]
  },
  {
   "cell_type": "code",
   "execution_count": 9,
   "metadata": {},
   "outputs": [
    {
     "name": "stdout",
     "output_type": "stream",
     "text": [
      "SVR Results:\n",
      "====================\n",
      "        Fold       MSE        R²      RMSE       MAE         MAPE  Adjusted R²\n",
      "0          1  0.854379  0.168174  0.924326  0.634033   269.593662     0.167946\n",
      "1          2  0.815862  0.166460  0.903251  0.623090   245.289483     0.166231\n",
      "2          3  0.833868  0.167824  0.913164  0.627425   323.592218     0.167595\n",
      "3          4  0.827882  0.169039  0.909880  0.624087   266.670331     0.168811\n",
      "4          5  0.842527  0.169334  0.917892  0.631807   360.643584     0.169105\n",
      "5          6  0.839818  0.164937  0.916416  0.628604   259.889562     0.164707\n",
      "6          7  0.817295  0.166100  0.904044  0.621210   324.051500     0.165871\n",
      "7          8  0.834225  0.165578  0.913359  0.626526  1309.552406     0.165349\n",
      "8          9  0.834560  0.168983  0.913543  0.626639   235.736376     0.168755\n",
      "9         10  0.824360  0.168478  0.907943  0.624481   332.348715     0.168250\n",
      "Average       0.832477  0.167491  0.912382  0.626790   392.736784     0.167262\n"
     ]
    }
   ],
   "source": [
    "results_df = pd.DataFrame(results)\n",
    "results_df.loc['Average'] = results_df.mean()\n",
    "results_df['Fold'] = results_df['Fold'].astype(int)\n",
    "results_df.iloc[-1, 0] = ''\n",
    "print('SVR Results:\\n====================')\n",
    "print(results_df)"
   ]
  }
 ],
 "metadata": {
  "kernelspec": {
   "display_name": "Python 3",
   "language": "python",
   "name": "python3"
  },
  "language_info": {
   "codemirror_mode": {
    "name": "ipython",
    "version": 3
   },
   "file_extension": ".py",
   "mimetype": "text/x-python",
   "name": "python",
   "nbconvert_exporter": "python",
   "pygments_lexer": "ipython3",
   "version": "3.10.12"
  },
  "orig_nbformat": 4
 },
 "nbformat": 4,
 "nbformat_minor": 2
}
