{
 "cells": [
  {
   "cell_type": "markdown",
   "metadata": {},
   "source": [
    "# Linear Regression"
   ]
  },
  {
   "cell_type": "code",
   "execution_count": 1,
   "metadata": {},
   "outputs": [],
   "source": [
    "import pandas as pd\n",
    "import numpy as np\n",
    "from sklearn.model_selection import KFold\n",
    "from sklearn.metrics import mean_squared_error, r2_score, mean_absolute_error, cohen_kappa_score\n",
    "from sklearn.linear_model import LinearRegression\n",
    "from math import sqrt"
   ]
  },
  {
   "cell_type": "code",
   "execution_count": 2,
   "metadata": {},
   "outputs": [
    {
     "data": {
      "text/html": [
       "<div>\n",
       "<style scoped>\n",
       "    .dataframe tbody tr th:only-of-type {\n",
       "        vertical-align: middle;\n",
       "    }\n",
       "\n",
       "    .dataframe tbody tr th {\n",
       "        vertical-align: top;\n",
       "    }\n",
       "\n",
       "    .dataframe thead th {\n",
       "        text-align: right;\n",
       "    }\n",
       "</style>\n",
       "<table border=\"1\" class=\"dataframe\">\n",
       "  <thead>\n",
       "    <tr style=\"text-align: right;\">\n",
       "      <th></th>\n",
       "      <th>subject</th>\n",
       "      <th>condition</th>\n",
       "      <th>replication</th>\n",
       "      <th>leg</th>\n",
       "      <th>joint</th>\n",
       "      <th>time</th>\n",
       "      <th>angle</th>\n",
       "      <th>angle_scaled</th>\n",
       "    </tr>\n",
       "  </thead>\n",
       "  <tbody>\n",
       "    <tr>\n",
       "      <th>0</th>\n",
       "      <td>1</td>\n",
       "      <td>1</td>\n",
       "      <td>1</td>\n",
       "      <td>1</td>\n",
       "      <td>1</td>\n",
       "      <td>0</td>\n",
       "      <td>4.682881</td>\n",
       "      <td>-0.465902</td>\n",
       "    </tr>\n",
       "    <tr>\n",
       "      <th>1</th>\n",
       "      <td>1</td>\n",
       "      <td>1</td>\n",
       "      <td>1</td>\n",
       "      <td>1</td>\n",
       "      <td>1</td>\n",
       "      <td>1</td>\n",
       "      <td>5.073127</td>\n",
       "      <td>-0.441551</td>\n",
       "    </tr>\n",
       "    <tr>\n",
       "      <th>2</th>\n",
       "      <td>1</td>\n",
       "      <td>1</td>\n",
       "      <td>1</td>\n",
       "      <td>1</td>\n",
       "      <td>1</td>\n",
       "      <td>2</td>\n",
       "      <td>5.229774</td>\n",
       "      <td>-0.431776</td>\n",
       "    </tr>\n",
       "    <tr>\n",
       "      <th>3</th>\n",
       "      <td>1</td>\n",
       "      <td>1</td>\n",
       "      <td>1</td>\n",
       "      <td>1</td>\n",
       "      <td>1</td>\n",
       "      <td>3</td>\n",
       "      <td>5.083273</td>\n",
       "      <td>-0.440918</td>\n",
       "    </tr>\n",
       "    <tr>\n",
       "      <th>4</th>\n",
       "      <td>1</td>\n",
       "      <td>1</td>\n",
       "      <td>1</td>\n",
       "      <td>1</td>\n",
       "      <td>1</td>\n",
       "      <td>4</td>\n",
       "      <td>4.652399</td>\n",
       "      <td>-0.467804</td>\n",
       "    </tr>\n",
       "  </tbody>\n",
       "</table>\n",
       "</div>"
      ],
      "text/plain": [
       "   subject  condition  replication  leg  joint  time     angle  angle_scaled\n",
       "0        1          1            1    1      1     0  4.682881     -0.465902\n",
       "1        1          1            1    1      1     1  5.073127     -0.441551\n",
       "2        1          1            1    1      1     2  5.229774     -0.431776\n",
       "3        1          1            1    1      1     3  5.083273     -0.440918\n",
       "4        1          1            1    1      1     4  4.652399     -0.467804"
      ]
     },
     "execution_count": 2,
     "metadata": {},
     "output_type": "execute_result"
    }
   ],
   "source": [
    "df_standardised = pd.read_csv('../gait_standardised.csv')\n",
    "df_standardised.head()"
   ]
  },
  {
   "cell_type": "code",
   "execution_count": 3,
   "metadata": {},
   "outputs": [
    {
     "data": {
      "text/plain": [
       "10"
      ]
     },
     "execution_count": 3,
     "metadata": {},
     "output_type": "execute_result"
    }
   ],
   "source": [
    "kf = KFold(n_splits=10, random_state=42, shuffle=True)\n",
    "kf.get_n_splits(df_standardised)"
   ]
  },
  {
   "cell_type": "code",
   "execution_count": 4,
   "metadata": {},
   "outputs": [
    {
     "name": "stdout",
     "output_type": "stream",
     "text": [
      "Data types before:\n",
      "subject           int64\n",
      "condition         int64\n",
      "replication       int64\n",
      "leg               int64\n",
      "joint             int64\n",
      "time              int64\n",
      "angle           float64\n",
      "angle_scaled    float64\n",
      "dtype: object\n",
      "\n",
      "Data types after:\n",
      "subject         category\n",
      "condition       category\n",
      "replication     category\n",
      "leg             category\n",
      "joint           category\n",
      "time            category\n",
      "angle            float64\n",
      "angle_scaled     float64\n",
      "dtype: object\n"
     ]
    }
   ],
   "source": [
    "print(f\"Data types before:\\n{df_standardised.dtypes}\\n\")\n",
    "categorical_columns = ['subject', 'condition', 'replication', 'leg', 'joint', 'time']\n",
    "df_standardised[categorical_columns] = df_standardised[categorical_columns].astype('category')\n",
    "df_standardised['time'] = df_standardised['time'].cat.set_categories(list(range(0, 101)), ordered=True)\n",
    "print(f\"Data types after:\\n{df_standardised.dtypes}\")"
   ]
  },
  {
   "cell_type": "code",
   "execution_count": 5,
   "metadata": {},
   "outputs": [],
   "source": [
    "results = {\n",
    "    'Fold': [],\n",
    "    'MSE': [],\n",
    "    'R²': [],\n",
    "    'RMSE': [],\n",
    "    'MAE': [],\n",
    "    'MAPE': [],\n",
    "    'Adjusted R²': [],\n",
    "}"
   ]
  },
  {
   "cell_type": "code",
   "execution_count": 6,
   "metadata": {},
   "outputs": [],
   "source": [
    "for i, (train_index, test_index) in enumerate(kf.split(df_standardised)):\n",
    "    x_train = df_standardised.loc[train_index, ['subject', 'condition', 'replication', 'leg', 'joint']]\n",
    "    y_train = df_standardised.loc[train_index, 'angle_scaled']\n",
    "\n",
    "    # Create and fit the Linear Regression model\n",
    "    clf = LinearRegression()\n",
    "    clf.fit(x_train, y_train)\n",
    "\n",
    "    x_test = df_standardised.loc[test_index, ['subject', 'condition', 'replication', 'leg', 'joint']]\n",
    "    y_test = df_standardised.loc[test_index, 'angle_scaled']\n",
    "\n",
    "    y_pred = clf.predict(x_test)\n",
    "    \n",
    "    # Calculate evaluation metrics\n",
    "    mse = mean_squared_error(y_test, y_pred)\n",
    "    r2 = r2_score(y_test, y_pred)\n",
    "    rmse = sqrt(mse)\n",
    "    mae = mean_absolute_error(y_test, y_pred)\n",
    "    mape = np.mean(np.abs((y_test - y_pred) / y_test)) * 100\n",
    "\n",
    "    n = x_test.shape[0]  # Number of samples\n",
    "    p = x_test.shape[1]  # Number of features\n",
    "    adj_r2 = 1 - ((1 - r2) * (n - 1)) / (n - p - 1)\n",
    "    \n",
    "    # Store the results in the dictionary\n",
    "    results['Fold'].append(i + 1)\n",
    "    results['MSE'].append(mse)\n",
    "    results['R²'].append(r2)\n",
    "    results['RMSE'].append(rmse)\n",
    "    results['MAE'].append(mae)\n",
    "    results['MAPE'].append(mape)\n",
    "    results['Adjusted R²'].append(adj_r2)"
   ]
  },
  {
   "cell_type": "code",
   "execution_count": 7,
   "metadata": {},
   "outputs": [
    {
     "name": "stdout",
     "output_type": "stream",
     "text": [
      "Linear Regression Results:\n",
      "==========================\n",
      "        Fold       MSE        R²      RMSE       MAE        MAPE  Adjusted R²\n",
      "0          1  0.992714  0.033490  0.996350  0.693341  182.045424     0.033225\n",
      "1          2  0.946672  0.032816  0.972970  0.680207  186.154575     0.032550\n",
      "2          3  0.966859  0.035102  0.983290  0.685757  233.748001     0.034837\n",
      "3          4  0.960965  0.035462  0.980288  0.681012  182.986056     0.035197\n",
      "4          5  0.979794  0.033998  0.989846  0.689577  260.850475     0.033733\n",
      "5          6  0.974421  0.031097  0.987128  0.686465  170.625891     0.030830\n",
      "6          7  0.949438  0.031272  0.974391  0.680261  197.264056     0.031006\n",
      "7          8  0.966131  0.033641  0.982919  0.684985  926.595779     0.033376\n",
      "8          9  0.970786  0.033335  0.985285  0.685243  158.572453     0.033069\n",
      "9         10  0.959541  0.032123  0.979562  0.682454  254.028812     0.031856\n",
      "Average       0.966732  0.033234  0.983203  0.684930  275.287152     0.032968\n"
     ]
    }
   ],
   "source": [
    "results_df = pd.DataFrame(results)\n",
    "results_df.loc['Average'] = results_df.mean()\n",
    "results_df['Fold'] = results_df['Fold'].astype(int)\n",
    "results_df.iloc[-1, 0] = ''\n",
    "print('Linear Regression Results:\\n==========================')\n",
    "print(results_df)"
   ]
  }
 ],
 "metadata": {
  "kernelspec": {
   "display_name": ".venv",
   "language": "python",
   "name": "python3"
  },
  "language_info": {
   "codemirror_mode": {
    "name": "ipython",
    "version": 3
   },
   "file_extension": ".py",
   "mimetype": "text/x-python",
   "name": "python",
   "nbconvert_exporter": "python",
   "pygments_lexer": "ipython3",
   "version": "3.10.12"
  },
  "orig_nbformat": 4
 },
 "nbformat": 4,
 "nbformat_minor": 2
}
