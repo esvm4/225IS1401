{
 "cells": [
  {
   "cell_type": "markdown",
   "metadata": {},
   "source": [
    "# INPUT FILES FORMATTING"
   ]
  },
  {
   "cell_type": "code",
   "execution_count": 1,
   "metadata": {},
   "outputs": [],
   "source": [
    "\n",
    "import numpy as np\n",
    "import pandas as pd\n",
    "import os"
   ]
  },
  {
   "cell_type": "markdown",
   "metadata": {},
   "source": [
    "## Replacing Portuguese Categories with English Translations"
   ]
  },
  {
   "cell_type": "code",
   "execution_count": 2,
   "metadata": {},
   "outputs": [],
   "source": [
    "products_df = pd.read_csv(\"./data/olist_products_dataset.csv\")\n",
    "translations_df = pd.read_csv(\"./data/product_category_name_translation.csv\")\n",
    "\n",
    "translations_dict = dict(zip(translations_df[\"product_category_name\"], translations_df[\"product_category_name_english\"]))\n",
    "products_df[\"product_category_name\"] = products_df[\"product_category_name\"].apply(lambda x: translations_dict[x] if x in translations_dict else x)\n",
    "\n",
    "products_df.to_csv(\"./data/olist_products_dataset.csv\", index=False)"
   ]
  },
  {
   "cell_type": "markdown",
   "metadata": {},
   "source": [
    "## Removing All Double Quotes"
   ]
  },
  {
   "cell_type": "code",
   "execution_count": 3,
   "metadata": {},
   "outputs": [
    {
     "name": "stdout",
     "output_type": "stream",
     "text": [
      "Double quotes removed from data/olist_order_items_dataset.csv.\n",
      "Double quotes removed from data/olist_sellers_dataset.csv.\n",
      "Double quotes removed from data/olist_customers_dataset.csv.\n",
      "Double quotes removed from data/olist_products_dataset.csv.\n",
      "Double quotes removed from data/olist_geolocation_dataset.csv.\n",
      "Double quotes removed from data/olist_orders_dataset.csv.\n",
      "Double quotes removed from data/product_category_name_translation.csv.\n",
      "Double quotes removed from data/olist_order_reviews_dataset.csv.\n",
      "Double quotes removed from data/olist_order_payments_dataset.csv.\n"
     ]
    }
   ],
   "source": [
    "def remove_double_quotes_from_file(file_path):\n",
    "    try:\n",
    "        df = pd.read_csv(file_path)\n",
    "        df = df.applymap(lambda x: str(x).replace('\"', ''))\n",
    "        df.to_csv(file_path, index=False)\n",
    "        print(f\"Double quotes removed from {file_path}.\")\n",
    "    except Exception as e:\n",
    "        print(f\"Error processing {file_path}: {e}\")\n",
    "\n",
    "data_folder = \"data/\"\n",
    "files = [os.path.join(data_folder, file) for file in os.listdir(data_folder) if os.path.isfile(os.path.join(data_folder, file))]\n",
    "for file in files:\n",
    "    if file.endswith(\".csv\"):\n",
    "        remove_double_quotes_from_file(file)\n"
   ]
  }
 ],
 "metadata": {
  "kernelspec": {
   "display_name": ".venv",
   "language": "python",
   "name": "python3"
  },
  "language_info": {
   "codemirror_mode": {
    "name": "ipython",
    "version": 3
   },
   "file_extension": ".py",
   "mimetype": "text/x-python",
   "name": "python",
   "nbconvert_exporter": "python",
   "pygments_lexer": "ipython3",
   "version": "3.10.6"
  },
  "orig_nbformat": 4
 },
 "nbformat": 4,
 "nbformat_minor": 2
}
