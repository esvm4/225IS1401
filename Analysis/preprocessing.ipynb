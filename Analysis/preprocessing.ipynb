{
 "cells": [
  {
   "cell_type": "markdown",
   "metadata": {},
   "source": [
    "# Preprocessing Data\n",
    "1. Check for Missing Values\n",
    "2. Check Data Types\n",
    "3. Validate Data Ranges\n",
    "4. Remove Duplicates\n",
    "5. Check for Outliers\n",
    "6. Data Standardisation"
   ]
  },
  {
   "cell_type": "code",
   "execution_count": 11,
   "metadata": {},
   "outputs": [],
   "source": [
    "import numpy as np\n",
    "import pandas as pd\n",
    "import matplotlib.pyplot as plt\n",
    "from sklearn.preprocessing import StandardScaler"
   ]
  },
  {
   "cell_type": "markdown",
   "metadata": {},
   "source": [
    "## Read Data from csv"
   ]
  },
  {
   "cell_type": "code",
   "execution_count": 12,
   "metadata": {},
   "outputs": [
    {
     "data": {
      "text/html": [
       "<div>\n",
       "<style scoped>\n",
       "    .dataframe tbody tr th:only-of-type {\n",
       "        vertical-align: middle;\n",
       "    }\n",
       "\n",
       "    .dataframe tbody tr th {\n",
       "        vertical-align: top;\n",
       "    }\n",
       "\n",
       "    .dataframe thead th {\n",
       "        text-align: right;\n",
       "    }\n",
       "</style>\n",
       "<table border=\"1\" class=\"dataframe\">\n",
       "  <thead>\n",
       "    <tr style=\"text-align: right;\">\n",
       "      <th></th>\n",
       "      <th>subject</th>\n",
       "      <th>condition</th>\n",
       "      <th>replication</th>\n",
       "      <th>leg</th>\n",
       "      <th>joint</th>\n",
       "      <th>time</th>\n",
       "      <th>angle</th>\n",
       "    </tr>\n",
       "  </thead>\n",
       "  <tbody>\n",
       "    <tr>\n",
       "      <th>0</th>\n",
       "      <td>1</td>\n",
       "      <td>1</td>\n",
       "      <td>1</td>\n",
       "      <td>1</td>\n",
       "      <td>1</td>\n",
       "      <td>0</td>\n",
       "      <td>4.682881</td>\n",
       "    </tr>\n",
       "    <tr>\n",
       "      <th>1</th>\n",
       "      <td>1</td>\n",
       "      <td>1</td>\n",
       "      <td>1</td>\n",
       "      <td>1</td>\n",
       "      <td>1</td>\n",
       "      <td>1</td>\n",
       "      <td>5.073127</td>\n",
       "    </tr>\n",
       "    <tr>\n",
       "      <th>2</th>\n",
       "      <td>1</td>\n",
       "      <td>1</td>\n",
       "      <td>1</td>\n",
       "      <td>1</td>\n",
       "      <td>1</td>\n",
       "      <td>2</td>\n",
       "      <td>5.229774</td>\n",
       "    </tr>\n",
       "    <tr>\n",
       "      <th>3</th>\n",
       "      <td>1</td>\n",
       "      <td>1</td>\n",
       "      <td>1</td>\n",
       "      <td>1</td>\n",
       "      <td>1</td>\n",
       "      <td>3</td>\n",
       "      <td>5.083273</td>\n",
       "    </tr>\n",
       "    <tr>\n",
       "      <th>4</th>\n",
       "      <td>1</td>\n",
       "      <td>1</td>\n",
       "      <td>1</td>\n",
       "      <td>1</td>\n",
       "      <td>1</td>\n",
       "      <td>4</td>\n",
       "      <td>4.652399</td>\n",
       "    </tr>\n",
       "  </tbody>\n",
       "</table>\n",
       "</div>"
      ],
      "text/plain": [
       "   subject  condition  replication  leg  joint  time     angle\n",
       "0        1          1            1    1      1     0  4.682881\n",
       "1        1          1            1    1      1     1  5.073127\n",
       "2        1          1            1    1      1     2  5.229774\n",
       "3        1          1            1    1      1     3  5.083273\n",
       "4        1          1            1    1      1     4  4.652399"
      ]
     },
     "execution_count": 12,
     "metadata": {},
     "output_type": "execute_result"
    }
   ],
   "source": [
    "df = pd.read_csv('gait.csv')\n",
    "df.head()"
   ]
  },
  {
   "cell_type": "markdown",
   "metadata": {},
   "source": [
    "## Check for Missing Values\n",
    "- There is no missing values in the dataset"
   ]
  },
  {
   "cell_type": "code",
   "execution_count": 13,
   "metadata": {},
   "outputs": [
    {
     "data": {
      "text/plain": [
       "subject        0.0\n",
       "condition      0.0\n",
       "replication    0.0\n",
       "leg            0.0\n",
       "joint          0.0\n",
       "time           0.0\n",
       "angle          0.0\n",
       "dtype: float64"
      ]
     },
     "execution_count": 13,
     "metadata": {},
     "output_type": "execute_result"
    }
   ],
   "source": [
    "missing_values = df.isnull()\n",
    "missing_counts = missing_values.sum()\n",
    "missing_percentages = (missing_counts / len(df)) * 100\n",
    "missing_percentages"
   ]
  },
  {
   "cell_type": "markdown",
   "metadata": {},
   "source": [
    "## Check Data Types\n",
    "- Data types are now incorrect:\n",
    "  - `subject`: int64\n",
    "  - `condition`: int64\n",
    "  - `replication`: int64\n",
    "  - `leg`: int64\n",
    "  - `joint`: int64\n",
    "  - `time`: int64\n",
    "  - `angle`: float64 → only correct type\n",
    "- Data types should be converted to its correct types:\n",
    "  - `subject`: categorical factor\n",
    "  - `condition`: categorical factor\n",
    "  - `replication`: categorical factor\n",
    "  - `leg`: categorical factor\n",
    "  - `joint`: categorical factor\n",
    "  - `time`: ordinal categorical factor\n",
    "  - `angle`: float64"
   ]
  },
  {
   "cell_type": "code",
   "execution_count": 14,
   "metadata": {},
   "outputs": [
    {
     "name": "stdout",
     "output_type": "stream",
     "text": [
      "Data types before:\n",
      "subject          int64\n",
      "condition        int64\n",
      "replication      int64\n",
      "leg              int64\n",
      "joint            int64\n",
      "time             int64\n",
      "angle          float64\n",
      "dtype: object\n",
      "\n",
      "Data types after:\n",
      "subject        category\n",
      "condition      category\n",
      "replication    category\n",
      "leg            category\n",
      "joint          category\n",
      "time           category\n",
      "angle           float64\n",
      "dtype: object\n"
     ]
    }
   ],
   "source": [
    "print(f\"Data types before:\\n{df.dtypes}\\n\")\n",
    "categorical_columns = ['subject', 'condition', 'replication', 'leg', 'joint', 'time']\n",
    "df[categorical_columns] = df[categorical_columns].astype('category')\n",
    "df['time'] = df['time'].cat.set_categories(list(range(1, 101)), ordered=True)\n",
    "print(f\"Data types after:\\n{df.dtypes}\")"
   ]
  },
  {
   "cell_type": "markdown",
   "metadata": {},
   "source": [
    "## Validate Data Ranges\n",
    "According to data description, the data ranges should be:\n",
    "- `subject`: 1 - 10\n",
    "- `condition`: 1 - 3\n",
    "- `replication`: 1 - 10\n",
    "- `leg`: 1 - 2\n",
    "- `joint`: 1 - 3\n",
    "- `time`: 0 - 100\n",
    "- `angle`: -90 - 90\n",
    "\n",
    "⇒ The dataset is valid"
   ]
  },
  {
   "cell_type": "code",
   "execution_count": 15,
   "metadata": {},
   "outputs": [
    {
     "name": "stdout",
     "output_type": "stream",
     "text": [
      "subject: 1 - 10\n",
      "condition: 1 - 3\n",
      "replication: 1 - 10\n",
      "leg: 1 - 2\n",
      "joint: 1 - 3\n",
      "time: nan - nan\n",
      "angle: -27.0046344609315 - 78.3093422869548\n"
     ]
    }
   ],
   "source": [
    "for col in df:\n",
    "    print(f'{col}: {min(df[col])} - {max(df[col])}')\n"
   ]
  },
  {
   "cell_type": "markdown",
   "metadata": {},
   "source": [
    "## Remove Duplicates\n",
    "- There is no duplicates in the dataset"
   ]
  },
  {
   "cell_type": "code",
   "execution_count": 16,
   "metadata": {},
   "outputs": [
    {
     "name": "stdout",
     "output_type": "stream",
     "text": [
      "Empty DataFrame\n",
      "Columns: [subject, condition, replication, leg, joint, time, angle]\n",
      "Index: []\n"
     ]
    }
   ],
   "source": [
    "# Check duplicates\n",
    "print(df[df.duplicated()])"
   ]
  },
  {
   "cell_type": "markdown",
   "metadata": {},
   "source": [
    "## Check for Outliers\n",
    "- As all categorical columns are valid, we only need to check for outliers in `angle` column\n",
    "- There are many outliers in `angle` column, but they are valid as the data description says that the range of `angle` is -90 to 90, and they are preprocessed and verified before publishing"
   ]
  },
  {
   "cell_type": "code",
   "execution_count": 17,
   "metadata": {},
   "outputs": [
    {
     "data": {
      "image/png": "[encoded data removed]",
      "text/plain": [
       "<Figure size 1000x600 with 1 Axes>"
      ]
     },
     "metadata": {},
     "output_type": "display_data"
    }
   ],
   "source": [
    "# Boxplot\n",
    "plt.figure(figsize=(10, 6))\n",
    "plt.boxplot(df['angle'])\n",
    "plt.title('Boxplot of angle')\n",
    "plt.ylabel('angle')\n",
    "plt.show()"
   ]
  },
  {
   "cell_type": "code",
   "execution_count": 18,
   "metadata": {},
   "outputs": [
    {
     "name": "stdout",
     "output_type": "stream",
     "text": [
      "            angle   z_score\n",
      "0        4.682881 -0.465901\n",
      "1        5.073127 -0.441549\n",
      "2        5.229774 -0.431775\n",
      "3        5.083273 -0.440916\n",
      "4        4.652399 -0.467803\n",
      "...           ...       ...\n",
      "181795  29.778412  1.100043\n",
      "181796  29.247559  1.066918\n",
      "181797  28.796951  1.038800\n",
      "181798  28.432936  1.016086\n",
      "181799  28.136438  0.997585\n",
      "\n",
      "[181800 rows x 2 columns]\n",
      "Lower fence: -23.353693380143657\n",
      "Upper fence: 43.708039649853035\n",
      "\n",
      "Outliers:\n",
      "            angle   z_score\n",
      "171     46.941278  2.170993\n",
      "172     50.241579  2.376930\n",
      "173     53.286476  2.566929\n",
      "174     55.996580  2.736038\n",
      "175     58.287905  2.879015\n",
      "...           ...       ...\n",
      "181676  49.160691  2.309483\n",
      "181677  48.212572  2.250321\n",
      "181678  46.986275  2.173801\n",
      "181679  45.490476  2.080464\n",
      "181680  43.727589  1.970462\n",
      "\n",
      "[10762 rows x 2 columns]\n"
     ]
    }
   ],
   "source": [
    "df1 = df[['angle']].copy()\n",
    "df1['z_score'] = (df['angle'] - df['angle'].mean()) / df['angle'].std()\n",
    "print(df1)\n",
    "\n",
    "Q1 = df1['angle'].quantile(0.25)\n",
    "Q3 = df1['angle'].quantile(0.75)\n",
    "IQR = Q3 - Q1\n",
    "lower_fence = Q1 - 1.5 * IQR\n",
    "upper_fence = Q3 + 1.5 * IQR\n",
    "print(f\"Lower fence: {lower_fence}\")\n",
    "print(f\"Upper fence: {upper_fence}\")\n",
    "outliers = df1[(df1['angle'] < lower_fence) | (df1['angle'] > upper_fence)]\n",
    "\n",
    "if outliers.empty:\n",
    "    print(\"No outliers detected.\")\n",
    "else:\n",
    "    print(f'\\nOutliers:\\n{outliers}')"
   ]
  },
  {
   "cell_type": "markdown",
   "metadata": {},
   "source": [
    "## Data Standardisation\n",
    "- Depends on the model we use, we may need to standardise the data\n",
    "- Only column `angle` needs to be standardised\n",
    "- The formula for standardisation is: `z = (x - mean) / std`"
   ]
  },
  {
   "cell_type": "code",
   "execution_count": 19,
   "metadata": {},
   "outputs": [
    {
     "data": {
      "text/html": [
       "<div>\n",
       "<style scoped>\n",
       "    .dataframe tbody tr th:only-of-type {\n",
       "        vertical-align: middle;\n",
       "    }\n",
       "\n",
       "    .dataframe tbody tr th {\n",
       "        vertical-align: top;\n",
       "    }\n",
       "\n",
       "    .dataframe thead th {\n",
       "        text-align: right;\n",
       "    }\n",
       "</style>\n",
       "<table border=\"1\" class=\"dataframe\">\n",
       "  <thead>\n",
       "    <tr style=\"text-align: right;\">\n",
       "      <th></th>\n",
       "      <th>subject</th>\n",
       "      <th>condition</th>\n",
       "      <th>replication</th>\n",
       "      <th>leg</th>\n",
       "      <th>joint</th>\n",
       "      <th>time</th>\n",
       "      <th>angle</th>\n",
       "      <th>angle_scaled</th>\n",
       "    </tr>\n",
       "  </thead>\n",
       "  <tbody>\n",
       "    <tr>\n",
       "      <th>37642</th>\n",
       "      <td>3</td>\n",
       "      <td>1</td>\n",
       "      <td>3</td>\n",
       "      <td>1</td>\n",
       "      <td>1</td>\n",
       "      <td>70</td>\n",
       "      <td>-23.246272</td>\n",
       "      <td>-2.208666</td>\n",
       "    </tr>\n",
       "    <tr>\n",
       "      <th>80332</th>\n",
       "      <td>5</td>\n",
       "      <td>2</td>\n",
       "      <td>3</td>\n",
       "      <td>2</td>\n",
       "      <td>1</td>\n",
       "      <td>37</td>\n",
       "      <td>18.193763</td>\n",
       "      <td>0.377170</td>\n",
       "    </tr>\n",
       "    <tr>\n",
       "      <th>151626</th>\n",
       "      <td>9</td>\n",
       "      <td>2</td>\n",
       "      <td>1</td>\n",
       "      <td>1</td>\n",
       "      <td>2</td>\n",
       "      <td>25</td>\n",
       "      <td>13.513417</td>\n",
       "      <td>0.085119</td>\n",
       "    </tr>\n",
       "    <tr>\n",
       "      <th>177388</th>\n",
       "      <td>10</td>\n",
       "      <td>3</td>\n",
       "      <td>3</td>\n",
       "      <td>2</td>\n",
       "      <td>2</td>\n",
       "      <td>32</td>\n",
       "      <td>0.083548</td>\n",
       "      <td>-0.752898</td>\n",
       "    </tr>\n",
       "    <tr>\n",
       "      <th>78740</th>\n",
       "      <td>5</td>\n",
       "      <td>1</td>\n",
       "      <td>10</td>\n",
       "      <td>2</td>\n",
       "      <td>3</td>\n",
       "      <td>61</td>\n",
       "      <td>-8.635683</td>\n",
       "      <td>-1.296973</td>\n",
       "    </tr>\n",
       "  </tbody>\n",
       "</table>\n",
       "</div>"
      ],
      "text/plain": [
       "       subject condition replication leg joint time      angle  angle_scaled\n",
       "37642        3         1           3   1     1   70 -23.246272     -2.208666\n",
       "80332        5         2           3   2     1   37  18.193763      0.377170\n",
       "151626       9         2           1   1     2   25  13.513417      0.085119\n",
       "177388      10         3           3   2     2   32   0.083548     -0.752898\n",
       "78740        5         1          10   2     3   61  -8.635683     -1.296973"
      ]
     },
     "execution_count": 19,
     "metadata": {},
     "output_type": "execute_result"
    }
   ],
   "source": [
    "scaler = StandardScaler()\n",
    "df['angle_scaled'] = scaler.fit_transform(df['angle'].values.reshape(-1, 1))\n",
    "df.sample(5)"
   ]
  },
  {
   "cell_type": "code",
   "execution_count": 20,
   "metadata": {},
   "outputs": [
    {
     "data": {
      "text/html": [
       "<div>\n",
       "<style scoped>\n",
       "    .dataframe tbody tr th:only-of-type {\n",
       "        vertical-align: middle;\n",
       "    }\n",
       "\n",
       "    .dataframe tbody tr th {\n",
       "        vertical-align: top;\n",
       "    }\n",
       "\n",
       "    .dataframe thead th {\n",
       "        text-align: right;\n",
       "    }\n",
       "</style>\n",
       "<table border=\"1\" class=\"dataframe\">\n",
       "  <thead>\n",
       "    <tr style=\"text-align: right;\">\n",
       "      <th></th>\n",
       "      <th>subject</th>\n",
       "      <th>condition</th>\n",
       "      <th>replication</th>\n",
       "      <th>leg</th>\n",
       "      <th>joint</th>\n",
       "      <th>time</th>\n",
       "      <th>angle</th>\n",
       "      <th>angle_scaled</th>\n",
       "    </tr>\n",
       "  </thead>\n",
       "  <tbody>\n",
       "    <tr>\n",
       "      <th>18408</th>\n",
       "      <td>2</td>\n",
       "      <td>1</td>\n",
       "      <td>1</td>\n",
       "      <td>1</td>\n",
       "      <td>3</td>\n",
       "      <td>26</td>\n",
       "      <td>0.478903</td>\n",
       "      <td>-0.728228</td>\n",
       "    </tr>\n",
       "    <tr>\n",
       "      <th>148940</th>\n",
       "      <td>9</td>\n",
       "      <td>1</td>\n",
       "      <td>6</td>\n",
       "      <td>2</td>\n",
       "      <td>2</td>\n",
       "      <td>66</td>\n",
       "      <td>52.026691</td>\n",
       "      <td>2.488326</td>\n",
       "    </tr>\n",
       "    <tr>\n",
       "      <th>76222</th>\n",
       "      <td>5</td>\n",
       "      <td>1</td>\n",
       "      <td>6</td>\n",
       "      <td>2</td>\n",
       "      <td>2</td>\n",
       "      <td>68</td>\n",
       "      <td>51.618480</td>\n",
       "      <td>2.462854</td>\n",
       "    </tr>\n",
       "    <tr>\n",
       "      <th>123270</th>\n",
       "      <td>7</td>\n",
       "      <td>3</td>\n",
       "      <td>4</td>\n",
       "      <td>1</td>\n",
       "      <td>3</td>\n",
       "      <td>50</td>\n",
       "      <td>-10.230929</td>\n",
       "      <td>-1.396516</td>\n",
       "    </tr>\n",
       "    <tr>\n",
       "      <th>178333</th>\n",
       "      <td>10</td>\n",
       "      <td>3</td>\n",
       "      <td>5</td>\n",
       "      <td>1</td>\n",
       "      <td>2</td>\n",
       "      <td>68</td>\n",
       "      <td>44.329834</td>\n",
       "      <td>2.008047</td>\n",
       "    </tr>\n",
       "  </tbody>\n",
       "</table>\n",
       "</div>"
      ],
      "text/plain": [
       "       subject condition replication leg joint time      angle  angle_scaled\n",
       "18408        2         1           1   1     3   26   0.478903     -0.728228\n",
       "148940       9         1           6   2     2   66  52.026691      2.488326\n",
       "76222        5         1           6   2     2   68  51.618480      2.462854\n",
       "123270       7         3           4   1     3   50 -10.230929     -1.396516\n",
       "178333      10         3           5   1     2   68  44.329834      2.008047"
      ]
     },
     "execution_count": 20,
     "metadata": {},
     "output_type": "execute_result"
    }
   ],
   "source": [
    "# export data to gait.csv\n",
    "df.to_csv('gait_standardised.csv', index=False)\n",
    "df.sample(5)"
   ]
  }
 ],
 "metadata": {
  "kernelspec": {
   "display_name": ".venv",
   "language": "python",
   "name": "python3"
  },
  "language_info": {
   "codemirror_mode": {
    "name": "ipython",
    "version": 3
   },
   "file_extension": ".py",
   "mimetype": "text/x-python",
   "name": "python",
   "nbconvert_exporter": "python",
   "pygments_lexer": "ipython3",
   "version": "3.10.7"
  },
  "orig_nbformat": 4
 },
 "nbformat": 4,
 "nbformat_minor": 2
}
