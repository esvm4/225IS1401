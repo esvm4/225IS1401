{
 "cells": [
  {
   "cell_type": "markdown",
   "metadata": {},
   "source": [
    "# Splitting Data\n",
    "1. Choose K = 10\n"
   ]
  },
  {
   "cell_type": "code",
   "execution_count": 3,
   "metadata": {},
   "outputs": [],
   "source": [
    "import pandas as pd\n",
    "import numpy as np\n",
    "from sklearn.model_selection import KFold"
   ]
  },
  {
   "cell_type": "code",
   "execution_count": 7,
   "metadata": {},
   "outputs": [
    {
     "data": {
      "text/html": [
       "<div>\n",
       "<style scoped>\n",
       "    .dataframe tbody tr th:only-of-type {\n",
       "        vertical-align: middle;\n",
       "    }\n",
       "\n",
       "    .dataframe tbody tr th {\n",
       "        vertical-align: top;\n",
       "    }\n",
       "\n",
       "    .dataframe thead th {\n",
       "        text-align: right;\n",
       "    }\n",
       "</style>\n",
       "<table border=\"1\" class=\"dataframe\">\n",
       "  <thead>\n",
       "    <tr style=\"text-align: right;\">\n",
       "      <th></th>\n",
       "      <th>subject</th>\n",
       "      <th>condition</th>\n",
       "      <th>replication</th>\n",
       "      <th>leg</th>\n",
       "      <th>joint</th>\n",
       "      <th>time</th>\n",
       "      <th>angle</th>\n",
       "      <th>angle_scaled</th>\n",
       "    </tr>\n",
       "  </thead>\n",
       "  <tbody>\n",
       "    <tr>\n",
       "      <th>0</th>\n",
       "      <td>1</td>\n",
       "      <td>1</td>\n",
       "      <td>1</td>\n",
       "      <td>1</td>\n",
       "      <td>1</td>\n",
       "      <td>NaN</td>\n",
       "      <td>4.682881</td>\n",
       "      <td>-0.465902</td>\n",
       "    </tr>\n",
       "    <tr>\n",
       "      <th>1</th>\n",
       "      <td>1</td>\n",
       "      <td>1</td>\n",
       "      <td>1</td>\n",
       "      <td>1</td>\n",
       "      <td>1</td>\n",
       "      <td>1.0</td>\n",
       "      <td>5.073127</td>\n",
       "      <td>-0.441551</td>\n",
       "    </tr>\n",
       "    <tr>\n",
       "      <th>2</th>\n",
       "      <td>1</td>\n",
       "      <td>1</td>\n",
       "      <td>1</td>\n",
       "      <td>1</td>\n",
       "      <td>1</td>\n",
       "      <td>2.0</td>\n",
       "      <td>5.229774</td>\n",
       "      <td>-0.431776</td>\n",
       "    </tr>\n",
       "    <tr>\n",
       "      <th>3</th>\n",
       "      <td>1</td>\n",
       "      <td>1</td>\n",
       "      <td>1</td>\n",
       "      <td>1</td>\n",
       "      <td>1</td>\n",
       "      <td>3.0</td>\n",
       "      <td>5.083273</td>\n",
       "      <td>-0.440918</td>\n",
       "    </tr>\n",
       "    <tr>\n",
       "      <th>4</th>\n",
       "      <td>1</td>\n",
       "      <td>1</td>\n",
       "      <td>1</td>\n",
       "      <td>1</td>\n",
       "      <td>1</td>\n",
       "      <td>4.0</td>\n",
       "      <td>4.652399</td>\n",
       "      <td>-0.467804</td>\n",
       "    </tr>\n",
       "  </tbody>\n",
       "</table>\n",
       "</div>"
      ],
      "text/plain": [
       "   subject  condition  replication  leg  joint  time     angle  angle_scaled\n",
       "0        1          1            1    1      1   NaN  4.682881     -0.465902\n",
       "1        1          1            1    1      1   1.0  5.073127     -0.441551\n",
       "2        1          1            1    1      1   2.0  5.229774     -0.431776\n",
       "3        1          1            1    1      1   3.0  5.083273     -0.440918\n",
       "4        1          1            1    1      1   4.0  4.652399     -0.467804"
      ]
     },
     "execution_count": 7,
     "metadata": {},
     "output_type": "execute_result"
    }
   ],
   "source": [
    "df_standardised = pd.read_csv('./gait_standardised.csv')\n",
    "df_standardised.head()"
   ]
  },
  {
   "cell_type": "code",
   "execution_count": 11,
   "metadata": {},
   "outputs": [
    {
     "name": "stdout",
     "output_type": "stream",
     "text": [
      "KFold(n_splits=10, random_state=None, shuffle=False)\n",
      "Fold 0:\n",
      "  Train: index=[ 18180  18181  18182 ... 181797 181798 181799]\n",
      "  Test:  index=[    0     1     2 ... 18177 18178 18179]\n",
      "Fold 1:\n",
      "  Train: index=[     0      1      2 ... 181797 181798 181799]\n",
      "  Test:  index=[18180 18181 18182 ... 36357 36358 36359]\n",
      "Fold 2:\n",
      "  Train: index=[     0      1      2 ... 181797 181798 181799]\n",
      "  Test:  index=[36360 36361 36362 ... 54537 54538 54539]\n",
      "Fold 3:\n",
      "  Train: index=[     0      1      2 ... 181797 181798 181799]\n",
      "  Test:  index=[54540 54541 54542 ... 72717 72718 72719]\n",
      "Fold 4:\n",
      "  Train: index=[     0      1      2 ... 181797 181798 181799]\n",
      "  Test:  index=[72720 72721 72722 ... 90897 90898 90899]\n",
      "Fold 5:\n",
      "  Train: index=[     0      1      2 ... 181797 181798 181799]\n",
      "  Test:  index=[ 90900  90901  90902 ... 109077 109078 109079]\n",
      "Fold 6:\n",
      "  Train: index=[     0      1      2 ... 181797 181798 181799]\n",
      "  Test:  index=[109080 109081 109082 ... 127257 127258 127259]\n",
      "Fold 7:\n",
      "  Train: index=[     0      1      2 ... 181797 181798 181799]\n",
      "  Test:  index=[127260 127261 127262 ... 145437 145438 145439]\n",
      "Fold 8:\n",
      "  Train: index=[     0      1      2 ... 181797 181798 181799]\n",
      "  Test:  index=[145440 145441 145442 ... 163617 163618 163619]\n",
      "Fold 9:\n",
      "  Train: index=[     0      1      2 ... 163617 163618 163619]\n",
      "  Test:  index=[163620 163621 163622 ... 181797 181798 181799]\n"
     ]
    }
   ],
   "source": [
    "kf = KFold(n_splits=10)\n",
    "kf.get_n_splits(df_standardised)\n",
    "\n",
    "print(kf)\n",
    "KFold(n_splits=10, random_state=42, shuffle=True)\n",
    "for i, (train_index, test_index) in enumerate(kf.split(df_standardised)):\n",
    "     print(f\"Fold {i}:\")\n",
    "     print(f\"  Train: index={train_index}\")\n",
    "     print(f\"  Test:  index={test_index}\")"
   ]
  }
 ],
 "metadata": {
  "kernelspec": {
   "display_name": ".venv",
   "language": "python",
   "name": "python3"
  },
  "language_info": {
   "codemirror_mode": {
    "name": "ipython",
    "version": 3
   },
   "file_extension": ".py",
   "mimetype": "text/x-python",
   "name": "python",
   "nbconvert_exporter": "python",
   "pygments_lexer": "ipython3",
   "version": "3.11.4"
  },
  "orig_nbformat": 4
 },
 "nbformat": 4,
 "nbformat_minor": 2
}
