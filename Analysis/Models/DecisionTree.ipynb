{
 "cells": [
  {
   "cell_type": "markdown",
   "metadata": {},
   "source": [
    "# Decision Tree"
   ]
  },
  {
   "cell_type": "code",
   "execution_count": 13,
   "metadata": {},
   "outputs": [],
   "source": [
    "import pandas as pd\n",
    "import numpy as np\n",
    "from sklearn.model_selection import KFold\n",
    "from sklearn import tree"
   ]
  },
  {
   "cell_type": "code",
   "execution_count": 14,
   "metadata": {},
   "outputs": [
    {
     "data": {
      "text/html": [
       "<div>\n",
       "<style scoped>\n",
       "    .dataframe tbody tr th:only-of-type {\n",
       "        vertical-align: middle;\n",
       "    }\n",
       "\n",
       "    .dataframe tbody tr th {\n",
       "        vertical-align: top;\n",
       "    }\n",
       "\n",
       "    .dataframe thead th {\n",
       "        text-align: right;\n",
       "    }\n",
       "</style>\n",
       "<table border=\"1\" class=\"dataframe\">\n",
       "  <thead>\n",
       "    <tr style=\"text-align: right;\">\n",
       "      <th></th>\n",
       "      <th>subject</th>\n",
       "      <th>condition</th>\n",
       "      <th>replication</th>\n",
       "      <th>leg</th>\n",
       "      <th>joint</th>\n",
       "      <th>time</th>\n",
       "      <th>angle</th>\n",
       "      <th>angle_scaled</th>\n",
       "    </tr>\n",
       "  </thead>\n",
       "  <tbody>\n",
       "    <tr>\n",
       "      <th>0</th>\n",
       "      <td>1</td>\n",
       "      <td>1</td>\n",
       "      <td>1</td>\n",
       "      <td>1</td>\n",
       "      <td>1</td>\n",
       "      <td>NaN</td>\n",
       "      <td>4.682881</td>\n",
       "      <td>-0.465902</td>\n",
       "    </tr>\n",
       "    <tr>\n",
       "      <th>1</th>\n",
       "      <td>1</td>\n",
       "      <td>1</td>\n",
       "      <td>1</td>\n",
       "      <td>1</td>\n",
       "      <td>1</td>\n",
       "      <td>1.0</td>\n",
       "      <td>5.073127</td>\n",
       "      <td>-0.441551</td>\n",
       "    </tr>\n",
       "    <tr>\n",
       "      <th>2</th>\n",
       "      <td>1</td>\n",
       "      <td>1</td>\n",
       "      <td>1</td>\n",
       "      <td>1</td>\n",
       "      <td>1</td>\n",
       "      <td>2.0</td>\n",
       "      <td>5.229774</td>\n",
       "      <td>-0.431776</td>\n",
       "    </tr>\n",
       "    <tr>\n",
       "      <th>3</th>\n",
       "      <td>1</td>\n",
       "      <td>1</td>\n",
       "      <td>1</td>\n",
       "      <td>1</td>\n",
       "      <td>1</td>\n",
       "      <td>3.0</td>\n",
       "      <td>5.083273</td>\n",
       "      <td>-0.440918</td>\n",
       "    </tr>\n",
       "    <tr>\n",
       "      <th>4</th>\n",
       "      <td>1</td>\n",
       "      <td>1</td>\n",
       "      <td>1</td>\n",
       "      <td>1</td>\n",
       "      <td>1</td>\n",
       "      <td>4.0</td>\n",
       "      <td>4.652399</td>\n",
       "      <td>-0.467804</td>\n",
       "    </tr>\n",
       "  </tbody>\n",
       "</table>\n",
       "</div>"
      ],
      "text/plain": [
       "   subject  condition  replication  leg  joint  time     angle  angle_scaled\n",
       "0        1          1            1    1      1   NaN  4.682881     -0.465902\n",
       "1        1          1            1    1      1   1.0  5.073127     -0.441551\n",
       "2        1          1            1    1      1   2.0  5.229774     -0.431776\n",
       "3        1          1            1    1      1   3.0  5.083273     -0.440918\n",
       "4        1          1            1    1      1   4.0  4.652399     -0.467804"
      ]
     },
     "execution_count": 14,
     "metadata": {},
     "output_type": "execute_result"
    }
   ],
   "source": [
    "df_standardised = pd.read_csv('../gait_standardised.csv')\n",
    "df_standardised.head()"
   ]
  },
  {
   "cell_type": "code",
   "execution_count": 17,
   "metadata": {},
   "outputs": [
    {
     "name": "stdout",
     "output_type": "stream",
     "text": [
      "KFold(n_splits=10, random_state=42, shuffle=True)\n",
      "Fold 0:\n",
      "score: 0.27589134070302734\n",
      "Fold 1:\n",
      "score: 0.26502629008096357\n",
      "Fold 2:\n",
      "score: 0.2718843063679217\n",
      "Fold 3:\n",
      "score: 0.2703377911313859\n",
      "Fold 4:\n",
      "score: 0.27520501201788206\n",
      "Fold 5:\n",
      "score: 0.269086515922461\n",
      "Fold 6:\n",
      "score: 0.2646564751427808\n",
      "Fold 7:\n",
      "score: 0.27281875470916916\n",
      "Fold 8:\n",
      "score: 0.2724686011302484\n",
      "Fold 9:\n",
      "score: 0.2662225932464317\n"
     ]
    }
   ],
   "source": [
    "kf = KFold(n_splits=10, random_state=42, shuffle=True)\n",
    "kf.get_n_splits(df_standardised)\n",
    "\n",
    "print(kf)\n",
    "for i, (train_index, test_index) in enumerate(kf.split(df_standardised)):\n",
    "    print(f\"Fold {i}:\")\n",
    "     \n",
    "    x = df_standardised.loc[train_index, ['subject','condition','replication','leg','joint']]\n",
    "    y = df_standardised.loc[train_index, 'angle_scaled']\n",
    "    clf = tree.DecisionTreeRegressor()\n",
    "    clf = clf.fit(x, y)\n",
    "    \n",
    "    x = df_standardised.loc[test_index, ['subject','condition','replication','leg','joint']]\n",
    "    y = df_standardised.loc[test_index, 'angle_scaled']\n",
    "    print(f\"score: {clf.score(x, y)}\")"
   ]
  }
 ],
 "metadata": {
  "kernelspec": {
   "display_name": ".venv",
   "language": "python",
   "name": "python3"
  },
  "language_info": {
   "codemirror_mode": {
    "name": "ipython",
    "version": 3
   },
   "file_extension": ".py",
   "mimetype": "text/x-python",
   "name": "python",
   "nbconvert_exporter": "python",
   "pygments_lexer": "ipython3",
   "version": "3.11.4"
  },
  "orig_nbformat": 4
 },
 "nbformat": 4,
 "nbformat_minor": 2
}
